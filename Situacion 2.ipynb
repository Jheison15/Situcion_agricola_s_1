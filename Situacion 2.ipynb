{
  "nbformat": 4,
  "nbformat_minor": 0,
  "metadata": {
    "colab": {
      "provenance": [],
      "authorship_tag": "ABX9TyPgRvLLnZFPNt/6oHmjIQhI",
      "include_colab_link": true
    },
    "kernelspec": {
      "name": "python3",
      "display_name": "Python 3"
    },
    "language_info": {
      "name": "python"
    }
  },
  "cells": [
    {
      "cell_type": "markdown",
      "metadata": {
        "id": "view-in-github",
        "colab_type": "text"
      },
      "source": [
        "<a href=\"https://colab.research.google.com/github/Jheison15/Situcion_agricola_s_1/blob/main/Situacion%202.ipynb\" target=\"_parent\"><img src=\"https://colab.research.google.com/assets/colab-badge.svg\" alt=\"Open In Colab\"/></a>"
      ]
    },
    {
      "cell_type": "markdown",
      "source": [
        "# Situación de Interés en Ingeniería Agrícola\n",
        "\n",
        "Un agricultor necesita saber cuántos kilogramos\n",
        "de semilla de maíz debe comprar para sembrar un lote rectangular. Conoce la densidad de siembra\n",
        "recomendada (kg por hectárea) y las dimensiones del lote (largo y ancho en metros)."
      ],
      "metadata": {
        "id": "gd6AgCFaUZw_"
      }
    },
    {
      "cell_type": "code",
      "source": [
        "1. #Saludar al usuario y explicar qué hace el programa.\n",
        "2. print(\"bienvendio al programa de calculo de semillas de maiz.\")"
      ],
      "metadata": {
        "colab": {
          "base_uri": "https://localhost:8080/",
          "height": 110
        },
        "id": "YvYJ_sGTUkVm",
        "outputId": "043111b5-64cd-4a79-e088-a8ec1f4a071a"
      },
      "execution_count": 3,
      "outputs": [
        {
          "output_type": "error",
          "ename": "SyntaxError",
          "evalue": "invalid syntax (ipython-input-3914103082.py, line 4)",
          "traceback": [
            "\u001b[0;36m  File \u001b[0;32m\"/tmp/ipython-input-3914103082.py\"\u001b[0;36m, line \u001b[0;32m4\u001b[0m\n\u001b[0;31m    7 Pedir el ancho del lote en metros (input no usar float)\u001b[0m\n\u001b[0m      ^\u001b[0m\n\u001b[0;31mSyntaxError\u001b[0m\u001b[0;31m:\u001b[0m invalid syntax\n"
          ]
        }
      ]
    },
    {
      "cell_type": "markdown",
      "source": [],
      "metadata": {
        "id": "DIIwxowmUw6M"
      }
    },
    {
      "cell_type": "markdown",
      "source": [
        "# Situación de Interés en Ingeniería Agroindustrial\n",
        "\n",
        "En una planta de procesamiento de mango,\n",
        "se quiere calcular el rendimiento de un lote de fruta. Se necesita un programa simple que tome el\n",
        "peso inicial de los mangos antes de pelarlos y deshuesarlos, y el peso final de la pulpa obtenida, para\n",
        "expresar el rendimiento como un porcentaje."
      ],
      "metadata": {
        "id": "of3GeO8DaiQc"
      }
    },
    {
      "cell_type": "markdown",
      "source": [],
      "metadata": {
        "id": "ln44ONG0bJjK"
      }
    },
    {
      "cell_type": "code",
      "source": [
        "# 1. Explicar el propósito de la calculadora.\n",
        "print(\"Calculadora de Rendimiento de Pulpa de Mango\")\n",
        "print(\"Este programa calcula el rendimiento de la pulpa de mango en porcentaje.\")\n",
        "\n",
        "# 2. Pedir el peso inicial de los mangos en kilogramos\n",
        "peso_inicial = float(input(\"Ingrese el peso inicial de los mangos antes de procesar (en kg): \"))\n",
        "\n",
        "# 3. Pedir el peso final de la pulpa en kilogramos\n",
        "peso_final = float(input(\"Ingrese el peso final de la pulpa obtenida (en kg): \"))\n",
        "\n",
        "# 4. Calcular el rendimiento\n",
        "rendimiento = (peso_final / peso_inicial) * 100\n",
        "\n",
        "# 5. Mostrar el resultado\n",
        "print(f\"El rendimiento de la pulpa de mango es: {rendimiento:.2f}%\")"
      ],
      "metadata": {
        "colab": {
          "base_uri": "https://localhost:8080/"
        },
        "outputId": "75c339b9-1a9f-454d-9e7f-095a95ad997d",
        "id": "uqA4swd6d7GI"
      },
      "execution_count": 29,
      "outputs": [
        {
          "output_type": "stream",
          "name": "stdout",
          "text": [
            "Calculadora de Rendimiento de Pulpa de Mango\n",
            "Este programa calcula el rendimiento de la pulpa de mango en porcentaje.\n",
            "Ingrese el peso inicial de los mangos antes de procesar (en kg): 1000\n",
            "Ingrese el peso final de la pulpa obtenida (en kg): 340\n",
            "El rendimiento de la pulpa de mango es: 34.00%\n"
          ]
        }
      ]
    },
    {
      "cell_type": "code",
      "source": [],
      "metadata": {
        "id": "ybCOnhEVdzif"
      },
      "execution_count": null,
      "outputs": []
    }
  ]
}